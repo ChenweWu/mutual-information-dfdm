{
 "cells": [
  {
   "cell_type": "markdown",
   "id": "0309df7e",
   "metadata": {},
   "source": [
    "### Metadata"
   ]
  },
  {
   "cell_type": "code",
   "execution_count": 1,
   "id": "15a3a60b",
   "metadata": {},
   "outputs": [
    {
     "name": "stdout",
     "output_type": "stream",
     "text": [
      "/Users/davidrestrepo/Data Fusion/DF-DM\n"
     ]
    }
   ],
   "source": [
    "%cd .."
   ]
  },
  {
   "cell_type": "code",
   "execution_count": 2,
   "id": "0c54ca51",
   "metadata": {},
   "outputs": [],
   "source": [
    "from src.Preprocessing.time_series_preprocessing import get_dataset, train_test_split, normalize_train_features, normalize_test_features, series_to_supervised, features_labels_set, reshape_tensor\n",
    "from src.Preprocessing.time_series_preprocessing import read_static, read_features\n",
    "from src.Utils.test_lstm import evaluate, plot_predictions, calculate_mean_std\n",
    "\n",
    "import pandas as pd\n",
    "import os\n",
    "import numpy as np\n",
    "import random\n",
    "import tensorflow as tf\n",
    "import torch\n",
    "\n",
    "def set_all_seeds(seed):\n",
    "    \"\"\"\n",
    "    Set seed for reproducibility in different libraries.\n",
    "    :param seed: An integer representing the seed value.\n",
    "    \"\"\"\n",
    "    random.seed(seed)  # Python's built-in random module\n",
    "    np.random.seed(seed)  # Numpy library\n",
    "    os.environ['PYTHONHASHSEED'] = str(seed)  # Environment variable\n",
    "\n",
    "    # TensorFlow\n",
    "    tf.random.set_seed(seed)\n",
    "    if tf.__version__[0] == '2':\n",
    "        # For TensorFlow 2.x, additionally set the global random seed\n",
    "        tf.compat.v1.set_random_seed(seed)\n",
    "\n",
    "    # PyTorch\n",
    "    torch.manual_seed(seed)\n",
    "    if torch.cuda.is_available():\n",
    "        # If using GPU with PyTorch, set additional seeds\n",
    "        torch.cuda.manual_seed(seed)\n",
    "        torch.cuda.manual_seed_all(seed)  # for multi-GPU"
   ]
  },
  {
   "cell_type": "code",
   "execution_count": 3,
   "id": "c7e33437",
   "metadata": {},
   "outputs": [],
   "source": [
    "DIR_PATH = 'datasets/violence_prediction/'\n",
    "file = 'metadata_labels.csv'\n",
    "cohort = 'cities.csv'"
   ]
  },
  {
   "cell_type": "code",
   "execution_count": 4,
   "id": "ba7cf644",
   "metadata": {},
   "outputs": [
    {
     "data": {
      "text/html": [
       "<div>\n",
       "<style scoped>\n",
       "    .dataframe tbody tr th:only-of-type {\n",
       "        vertical-align: middle;\n",
       "    }\n",
       "\n",
       "    .dataframe tbody tr th {\n",
       "        vertical-align: top;\n",
       "    }\n",
       "\n",
       "    .dataframe thead th {\n",
       "        text-align: right;\n",
       "    }\n",
       "</style>\n",
       "<table border=\"1\" class=\"dataframe\">\n",
       "  <thead>\n",
       "    <tr style=\"text-align: right;\">\n",
       "      <th></th>\n",
       "      <th>lat</th>\n",
       "      <th>lng</th>\n",
       "      <th>Municipality</th>\n",
       "      <th>Municipality code</th>\n",
       "      <th>ISO</th>\n",
       "    </tr>\n",
       "  </thead>\n",
       "  <tbody>\n",
       "    <tr>\n",
       "      <th>0</th>\n",
       "      <td>6.2447</td>\n",
       "      <td>-75.5748</td>\n",
       "      <td>Medellín</td>\n",
       "      <td>5001</td>\n",
       "      <td>CO-ANT</td>\n",
       "    </tr>\n",
       "    <tr>\n",
       "      <th>1</th>\n",
       "      <td>3.4400</td>\n",
       "      <td>-76.5197</td>\n",
       "      <td>Cali</td>\n",
       "      <td>76001</td>\n",
       "      <td>CO-VAC</td>\n",
       "    </tr>\n",
       "    <tr>\n",
       "      <th>2</th>\n",
       "      <td>4.5781</td>\n",
       "      <td>-74.2144</td>\n",
       "      <td>Soacha</td>\n",
       "      <td>25754</td>\n",
       "      <td>CO-CUN</td>\n",
       "    </tr>\n",
       "    <tr>\n",
       "      <th>3</th>\n",
       "      <td>4.1425</td>\n",
       "      <td>-73.6294</td>\n",
       "      <td>Villavicencio</td>\n",
       "      <td>50001</td>\n",
       "      <td>CO-MET</td>\n",
       "    </tr>\n",
       "    <tr>\n",
       "      <th>4</th>\n",
       "      <td>1.2136</td>\n",
       "      <td>-77.2811</td>\n",
       "      <td>Pasto</td>\n",
       "      <td>52001</td>\n",
       "      <td>CO-NAR</td>\n",
       "    </tr>\n",
       "    <tr>\n",
       "      <th>5</th>\n",
       "      <td>10.9639</td>\n",
       "      <td>-74.7964</td>\n",
       "      <td>Barranquilla</td>\n",
       "      <td>8001</td>\n",
       "      <td>CO-ATL</td>\n",
       "    </tr>\n",
       "    <tr>\n",
       "      <th>6</th>\n",
       "      <td>7.1186</td>\n",
       "      <td>-73.1161</td>\n",
       "      <td>Bucaramanga</td>\n",
       "      <td>68001</td>\n",
       "      <td>CO-SAN</td>\n",
       "    </tr>\n",
       "    <tr>\n",
       "      <th>7</th>\n",
       "      <td>4.4378</td>\n",
       "      <td>-75.2006</td>\n",
       "      <td>Ibagué</td>\n",
       "      <td>73001</td>\n",
       "      <td>CO-TOL</td>\n",
       "    </tr>\n",
       "    <tr>\n",
       "      <th>8</th>\n",
       "      <td>2.4411</td>\n",
       "      <td>-76.6061</td>\n",
       "      <td>Popayán</td>\n",
       "      <td>19001</td>\n",
       "      <td>CO-CAU</td>\n",
       "    </tr>\n",
       "    <tr>\n",
       "      <th>9</th>\n",
       "      <td>7.9075</td>\n",
       "      <td>-72.5047</td>\n",
       "      <td>Cúcuta</td>\n",
       "      <td>54001</td>\n",
       "      <td>CO-NSA</td>\n",
       "    </tr>\n",
       "  </tbody>\n",
       "</table>\n",
       "</div>"
      ],
      "text/plain": [
       "       lat      lng   Municipality  Municipality code     ISO\n",
       "0   6.2447 -75.5748       Medellín               5001  CO-ANT\n",
       "1   3.4400 -76.5197           Cali              76001  CO-VAC\n",
       "2   4.5781 -74.2144         Soacha              25754  CO-CUN\n",
       "3   4.1425 -73.6294  Villavicencio              50001  CO-MET\n",
       "4   1.2136 -77.2811          Pasto              52001  CO-NAR\n",
       "5  10.9639 -74.7964   Barranquilla               8001  CO-ATL\n",
       "6   7.1186 -73.1161    Bucaramanga              68001  CO-SAN\n",
       "7   4.4378 -75.2006         Ibagué              73001  CO-TOL\n",
       "8   2.4411 -76.6061        Popayán              19001  CO-CAU\n",
       "9   7.9075 -72.5047         Cúcuta              54001  CO-NSA"
      ]
     },
     "execution_count": 4,
     "metadata": {},
     "output_type": "execute_result"
    }
   ],
   "source": [
    "cities = pd.read_csv(DIR_PATH + cohort)\n",
    "cities"
   ]
  },
  {
   "cell_type": "markdown",
   "id": "cd4f7709",
   "metadata": {},
   "source": [
    "##### Constants"
   ]
  },
  {
   "cell_type": "code",
   "execution_count": 5,
   "id": "359cf359",
   "metadata": {},
   "outputs": [],
   "source": [
    "\"\"\" Read Dataset:\"\"\"\n",
    "image_embeddings = None #'Embeddings/Embeddings_dinov2_large.csv'\n",
    "media_data = 'datasets/violence_prediction/internet_data.csv'\n",
    "static = 'datasets/violence_prediction/metadata_labels.csv'\n",
    "\n",
    "DIR_PATH = 'datasets/violence_prediction/'\n",
    "file = 'metadata_labels.csv'\n",
    "labels = pd.read_csv(DIR_PATH + file)\n",
    "\n",
    "# Get list of municipalities:\n",
    "cohort = 'cities.csv'\n",
    "cities = pd.read_csv(DIR_PATH + cohort)\n",
    "Municipalities = cities.Municipality.values\n",
    "\n",
    "\"\"\" Dataset Preprocessing:\"\"\"\n",
    "train_percentage = 80\n",
    "T = 3\n",
    "autoregressive = False\n",
    "feature_range = (-1, 1)\n",
    "\n",
    "\"\"\" Model Parameters:\"\"\"\n",
    "lstm_layers=[1000, 500]\n",
    "nn_layers=[250, 120, 1]\n",
    "dense_acivation='relu'\n",
    "recurrent_cells='LSTM'\n",
    "bidirectional=False\n",
    "\n",
    "seed = 1\n",
    "n_tests = 3"
   ]
  },
  {
   "cell_type": "markdown",
   "id": "7b68495c",
   "metadata": {},
   "source": [
    "### Read and Preprocess the Data"
   ]
  },
  {
   "cell_type": "markdown",
   "id": "c61a7eb9",
   "metadata": {},
   "source": [
    "#### Read the Data"
   ]
  },
  {
   "cell_type": "code",
   "execution_count": 6,
   "id": "6814aeaa",
   "metadata": {},
   "outputs": [
    {
     "name": "stdout",
     "output_type": "stream",
     "text": [
      "Obtaining dataframe for the city of Medellín only...\n",
      "Obtaining dataframe for the city of Cali only...\n",
      "Obtaining dataframe for the city of Soacha only...\n",
      "Obtaining dataframe for the city of Villavicencio only...\n",
      "Obtaining dataframe for the city of Pasto only...\n",
      "Obtaining dataframe for the city of Barranquilla only...\n",
      "Obtaining dataframe for the city of Bucaramanga only...\n",
      "Obtaining dataframe for the city of Ibagué only...\n",
      "Obtaining dataframe for the city of Popayán only...\n",
      "Obtaining dataframe for the city of Cúcuta only...\n"
     ]
    },
    {
     "data": {
      "text/plain": [
       "list"
      ]
     },
     "execution_count": 6,
     "metadata": {},
     "output_type": "execute_result"
    }
   ],
   "source": [
    "# Read dataset\n",
    "dengue_df = [get_dataset(labels_path=labels, embeddings_path=image_embeddings, municipality=Municipality, temp_prec=media_data, static=static) for Municipality in Municipalities]\n",
    "type(dengue_df)"
   ]
  },
  {
   "cell_type": "markdown",
   "id": "e4515f4b",
   "metadata": {},
   "source": [
    "#### Train-Test Split"
   ]
  },
  {
   "cell_type": "code",
   "execution_count": 8,
   "id": "336ab33e",
   "metadata": {},
   "outputs": [
    {
     "name": "stdout",
     "output_type": "stream",
     "text": [
      "The train shape is: (187, 34)\n",
      "The test shape is: (47, 34)\n",
      "The train shape is: (145, 34)\n",
      "The test shape is: (37, 34)\n",
      "The train shape is: (206, 34)\n",
      "The test shape is: (52, 34)\n",
      "The train shape is: (32, 34)\n",
      "The test shape is: (8, 34)\n",
      "The train shape is: (131, 34)\n",
      "The test shape is: (33, 34)\n",
      "The train shape is: (150, 34)\n",
      "The test shape is: (38, 34)\n",
      "The train shape is: (112, 34)\n",
      "The test shape is: (28, 34)\n",
      "The train shape is: (80, 34)\n",
      "The test shape is: (20, 34)\n",
      "The train shape is: (80, 34)\n",
      "The test shape is: (21, 34)\n",
      "The train shape is: (127, 34)\n",
      "The test shape is: (32, 34)\n"
     ]
    }
   ],
   "source": [
    "train_df = []\n",
    "test_df = []\n",
    "\n",
    "for i in range(len(dengue_df)):\n",
    "    train_df_aux, test_df_aux = train_test_split(dengue_df[i], train_percentage)\n",
    "    train_df.append(train_df_aux)\n",
    "    test_df.append(test_df_aux)\n",
    "    "
   ]
  },
  {
   "cell_type": "markdown",
   "id": "96f952f7",
   "metadata": {},
   "source": [
    "#### Normalize the Data"
   ]
  },
  {
   "cell_type": "code",
   "execution_count": 9,
   "id": "4065172d",
   "metadata": {},
   "outputs": [],
   "source": [
    "# Merge:\n",
    "train_df = pd.concat(train_df, keys=Municipalities)\n",
    "test_df = pd.concat(test_df, keys=Municipalities)"
   ]
  },
  {
   "cell_type": "code",
   "execution_count": 10,
   "id": "fa00c77a",
   "metadata": {},
   "outputs": [
    {
     "data": {
      "text/html": [
       "<div>\n",
       "<style scoped>\n",
       "    .dataframe tbody tr th:only-of-type {\n",
       "        vertical-align: middle;\n",
       "    }\n",
       "\n",
       "    .dataframe tbody tr th {\n",
       "        vertical-align: top;\n",
       "    }\n",
       "\n",
       "    .dataframe thead th {\n",
       "        text-align: right;\n",
       "    }\n",
       "</style>\n",
       "<table border=\"1\" class=\"dataframe\">\n",
       "  <thead>\n",
       "    <tr style=\"text-align: right;\">\n",
       "      <th></th>\n",
       "      <th></th>\n",
       "      <th>Violencia</th>\n",
       "      <th>violencia de genero</th>\n",
       "      <th>Count</th>\n",
       "      <th>NumMentions</th>\n",
       "      <th>NumSources</th>\n",
       "      <th>NumArticles</th>\n",
       "      <th>AvgTone</th>\n",
       "      <th>Age0-4(%)</th>\n",
       "      <th>Age5-14(%)</th>\n",
       "      <th>Age15-29(%)</th>\n",
       "      <th>...</th>\n",
       "      <th>Buildingstratification1(%)</th>\n",
       "      <th>Buildingstratification2(%)</th>\n",
       "      <th>Buildingstratification3(%)</th>\n",
       "      <th>Buildingstratification4(%)</th>\n",
       "      <th>Buildingstratification5(%)</th>\n",
       "      <th>Buildingstratification6(%)</th>\n",
       "      <th>NumberofhospitalsperKm2</th>\n",
       "      <th>NumberofhousesperKm2</th>\n",
       "      <th>population</th>\n",
       "      <th>Labels</th>\n",
       "    </tr>\n",
       "  </thead>\n",
       "  <tbody>\n",
       "    <tr>\n",
       "      <th rowspan=\"5\" valign=\"top\">Cali</th>\n",
       "      <th>201801</th>\n",
       "      <td>-1.340076</td>\n",
       "      <td>-0.826367</td>\n",
       "      <td>-0.505233</td>\n",
       "      <td>-0.294933</td>\n",
       "      <td>-0.310338</td>\n",
       "      <td>-0.293099</td>\n",
       "      <td>-0.164350</td>\n",
       "      <td>-1.07607</td>\n",
       "      <td>-0.956006</td>\n",
       "      <td>-1.524918</td>\n",
       "      <td>...</td>\n",
       "      <td>-0.58877</td>\n",
       "      <td>-0.495713</td>\n",
       "      <td>0.484871</td>\n",
       "      <td>0.219844</td>\n",
       "      <td>1.553038</td>\n",
       "      <td>0.486149</td>\n",
       "      <td>-0.01718</td>\n",
       "      <td>0.130085</td>\n",
       "      <td>1.430892</td>\n",
       "      <td>0.426469</td>\n",
       "    </tr>\n",
       "    <tr>\n",
       "      <th>201802</th>\n",
       "      <td>-1.597822</td>\n",
       "      <td>-0.779925</td>\n",
       "      <td>-0.505233</td>\n",
       "      <td>-0.314382</td>\n",
       "      <td>-0.310338</td>\n",
       "      <td>-0.313049</td>\n",
       "      <td>-1.061408</td>\n",
       "      <td>-1.07607</td>\n",
       "      <td>-0.956006</td>\n",
       "      <td>-1.524918</td>\n",
       "      <td>...</td>\n",
       "      <td>-0.58877</td>\n",
       "      <td>-0.495713</td>\n",
       "      <td>0.484871</td>\n",
       "      <td>0.219844</td>\n",
       "      <td>1.553038</td>\n",
       "      <td>0.486149</td>\n",
       "      <td>-0.01718</td>\n",
       "      <td>0.130085</td>\n",
       "      <td>1.430892</td>\n",
       "      <td>-0.023963</td>\n",
       "    </tr>\n",
       "    <tr>\n",
       "      <th>201803</th>\n",
       "      <td>-0.979230</td>\n",
       "      <td>-0.222624</td>\n",
       "      <td>-0.594182</td>\n",
       "      <td>-0.327349</td>\n",
       "      <td>-0.328601</td>\n",
       "      <td>-0.326350</td>\n",
       "      <td>1.637157</td>\n",
       "      <td>-1.07607</td>\n",
       "      <td>-0.956006</td>\n",
       "      <td>-1.524918</td>\n",
       "      <td>...</td>\n",
       "      <td>-0.58877</td>\n",
       "      <td>-0.495713</td>\n",
       "      <td>0.484871</td>\n",
       "      <td>0.219844</td>\n",
       "      <td>1.553038</td>\n",
       "      <td>0.486149</td>\n",
       "      <td>-0.01718</td>\n",
       "      <td>0.130085</td>\n",
       "      <td>1.430892</td>\n",
       "      <td>0.253226</td>\n",
       "    </tr>\n",
       "    <tr>\n",
       "      <th>201804</th>\n",
       "      <td>-0.927681</td>\n",
       "      <td>0.056027</td>\n",
       "      <td>-0.594182</td>\n",
       "      <td>-0.327349</td>\n",
       "      <td>-0.328601</td>\n",
       "      <td>-0.326350</td>\n",
       "      <td>1.637157</td>\n",
       "      <td>-1.07607</td>\n",
       "      <td>-0.956006</td>\n",
       "      <td>-1.524918</td>\n",
       "      <td>...</td>\n",
       "      <td>-0.58877</td>\n",
       "      <td>-0.495713</td>\n",
       "      <td>0.484871</td>\n",
       "      <td>0.219844</td>\n",
       "      <td>1.553038</td>\n",
       "      <td>0.486149</td>\n",
       "      <td>-0.01718</td>\n",
       "      <td>0.130085</td>\n",
       "      <td>1.430892</td>\n",
       "      <td>0.807604</td>\n",
       "    </tr>\n",
       "    <tr>\n",
       "      <th>201805</th>\n",
       "      <td>-0.618385</td>\n",
       "      <td>-0.826367</td>\n",
       "      <td>0.473211</td>\n",
       "      <td>0.158890</td>\n",
       "      <td>0.073183</td>\n",
       "      <td>0.105907</td>\n",
       "      <td>-0.923627</td>\n",
       "      <td>-1.07607</td>\n",
       "      <td>-0.956006</td>\n",
       "      <td>-1.524918</td>\n",
       "      <td>...</td>\n",
       "      <td>-0.58877</td>\n",
       "      <td>-0.495713</td>\n",
       "      <td>0.484871</td>\n",
       "      <td>0.219844</td>\n",
       "      <td>1.553038</td>\n",
       "      <td>0.486149</td>\n",
       "      <td>-0.01718</td>\n",
       "      <td>0.130085</td>\n",
       "      <td>1.430892</td>\n",
       "      <td>0.339848</td>\n",
       "    </tr>\n",
       "  </tbody>\n",
       "</table>\n",
       "<p>5 rows × 34 columns</p>\n",
       "</div>"
      ],
      "text/plain": [
       "             Violencia  violencia de genero     Count  NumMentions  \\\n",
       "Cali 201801  -1.340076            -0.826367 -0.505233    -0.294933   \n",
       "     201802  -1.597822            -0.779925 -0.505233    -0.314382   \n",
       "     201803  -0.979230            -0.222624 -0.594182    -0.327349   \n",
       "     201804  -0.927681             0.056027 -0.594182    -0.327349   \n",
       "     201805  -0.618385            -0.826367  0.473211     0.158890   \n",
       "\n",
       "             NumSources  NumArticles   AvgTone  Age0-4(%)  Age5-14(%)  \\\n",
       "Cali 201801   -0.310338    -0.293099 -0.164350   -1.07607   -0.956006   \n",
       "     201802   -0.310338    -0.313049 -1.061408   -1.07607   -0.956006   \n",
       "     201803   -0.328601    -0.326350  1.637157   -1.07607   -0.956006   \n",
       "     201804   -0.328601    -0.326350  1.637157   -1.07607   -0.956006   \n",
       "     201805    0.073183     0.105907 -0.923627   -1.07607   -0.956006   \n",
       "\n",
       "             Age15-29(%)  ...  Buildingstratification1(%)  \\\n",
       "Cali 201801    -1.524918  ...                    -0.58877   \n",
       "     201802    -1.524918  ...                    -0.58877   \n",
       "     201803    -1.524918  ...                    -0.58877   \n",
       "     201804    -1.524918  ...                    -0.58877   \n",
       "     201805    -1.524918  ...                    -0.58877   \n",
       "\n",
       "             Buildingstratification2(%)  Buildingstratification3(%)  \\\n",
       "Cali 201801                   -0.495713                    0.484871   \n",
       "     201802                   -0.495713                    0.484871   \n",
       "     201803                   -0.495713                    0.484871   \n",
       "     201804                   -0.495713                    0.484871   \n",
       "     201805                   -0.495713                    0.484871   \n",
       "\n",
       "             Buildingstratification4(%)  Buildingstratification5(%)  \\\n",
       "Cali 201801                    0.219844                    1.553038   \n",
       "     201802                    0.219844                    1.553038   \n",
       "     201803                    0.219844                    1.553038   \n",
       "     201804                    0.219844                    1.553038   \n",
       "     201805                    0.219844                    1.553038   \n",
       "\n",
       "             Buildingstratification6(%)  NumberofhospitalsperKm2  \\\n",
       "Cali 201801                    0.486149                 -0.01718   \n",
       "     201802                    0.486149                 -0.01718   \n",
       "     201803                    0.486149                 -0.01718   \n",
       "     201804                    0.486149                 -0.01718   \n",
       "     201805                    0.486149                 -0.01718   \n",
       "\n",
       "             NumberofhousesperKm2  population    Labels  \n",
       "Cali 201801              0.130085    1.430892  0.426469  \n",
       "     201802              0.130085    1.430892 -0.023963  \n",
       "     201803              0.130085    1.430892  0.253226  \n",
       "     201804              0.130085    1.430892  0.807604  \n",
       "     201805              0.130085    1.430892  0.339848  \n",
       "\n",
       "[5 rows x 34 columns]"
      ]
     },
     "execution_count": 10,
     "metadata": {},
     "output_type": "execute_result"
    }
   ],
   "source": [
    "# Scale train:\n",
    "train_df, scalers = normalize_train_features(train_df, feature_range=feature_range)\n",
    "train_df = [train_df[train_df.index.get_level_values(0) == municipality] for municipality in Municipalities]\n",
    "\n",
    "train_df[1].head()"
   ]
  },
  {
   "cell_type": "code",
   "execution_count": 11,
   "id": "7bd5f793",
   "metadata": {},
   "outputs": [
    {
     "data": {
      "text/html": [
       "<div>\n",
       "<style scoped>\n",
       "    .dataframe tbody tr th:only-of-type {\n",
       "        vertical-align: middle;\n",
       "    }\n",
       "\n",
       "    .dataframe tbody tr th {\n",
       "        vertical-align: top;\n",
       "    }\n",
       "\n",
       "    .dataframe thead th {\n",
       "        text-align: right;\n",
       "    }\n",
       "</style>\n",
       "<table border=\"1\" class=\"dataframe\">\n",
       "  <thead>\n",
       "    <tr style=\"text-align: right;\">\n",
       "      <th></th>\n",
       "      <th></th>\n",
       "      <th>Violencia</th>\n",
       "      <th>violencia de genero</th>\n",
       "      <th>Count</th>\n",
       "      <th>NumMentions</th>\n",
       "      <th>NumSources</th>\n",
       "      <th>NumArticles</th>\n",
       "      <th>AvgTone</th>\n",
       "      <th>Age0-4(%)</th>\n",
       "      <th>Age5-14(%)</th>\n",
       "      <th>Age15-29(%)</th>\n",
       "      <th>...</th>\n",
       "      <th>Buildingstratification1(%)</th>\n",
       "      <th>Buildingstratification2(%)</th>\n",
       "      <th>Buildingstratification3(%)</th>\n",
       "      <th>Buildingstratification4(%)</th>\n",
       "      <th>Buildingstratification5(%)</th>\n",
       "      <th>Buildingstratification6(%)</th>\n",
       "      <th>NumberofhospitalsperKm2</th>\n",
       "      <th>NumberofhousesperKm2</th>\n",
       "      <th>population</th>\n",
       "      <th>Labels</th>\n",
       "    </tr>\n",
       "  </thead>\n",
       "  <tbody>\n",
       "    <tr>\n",
       "      <th rowspan=\"5\" valign=\"top\">Cali</th>\n",
       "      <th>202135</th>\n",
       "      <td>0.154854</td>\n",
       "      <td>-0.779925</td>\n",
       "      <td>-0.594182</td>\n",
       "      <td>-0.311141</td>\n",
       "      <td>-0.310338</td>\n",
       "      <td>-0.309724</td>\n",
       "      <td>0.020257</td>\n",
       "      <td>-1.07607</td>\n",
       "      <td>-0.956006</td>\n",
       "      <td>-1.524918</td>\n",
       "      <td>...</td>\n",
       "      <td>-0.58877</td>\n",
       "      <td>-0.495713</td>\n",
       "      <td>0.484871</td>\n",
       "      <td>0.219844</td>\n",
       "      <td>1.553038</td>\n",
       "      <td>0.486149</td>\n",
       "      <td>-0.01718</td>\n",
       "      <td>0.130085</td>\n",
       "      <td>1.430892</td>\n",
       "      <td>0.928875</td>\n",
       "    </tr>\n",
       "    <tr>\n",
       "      <th>202138</th>\n",
       "      <td>0.721896</td>\n",
       "      <td>0.334678</td>\n",
       "      <td>-0.149435</td>\n",
       "      <td>-0.262517</td>\n",
       "      <td>-0.219024</td>\n",
       "      <td>-0.259849</td>\n",
       "      <td>-0.164755</td>\n",
       "      <td>-1.07607</td>\n",
       "      <td>-0.956006</td>\n",
       "      <td>-1.524918</td>\n",
       "      <td>...</td>\n",
       "      <td>-0.58877</td>\n",
       "      <td>-0.495713</td>\n",
       "      <td>0.484871</td>\n",
       "      <td>0.219844</td>\n",
       "      <td>1.553038</td>\n",
       "      <td>0.486149</td>\n",
       "      <td>-0.01718</td>\n",
       "      <td>0.130085</td>\n",
       "      <td>1.430892</td>\n",
       "      <td>1.396631</td>\n",
       "    </tr>\n",
       "    <tr>\n",
       "      <th>202146</th>\n",
       "      <td>0.979643</td>\n",
       "      <td>0.613329</td>\n",
       "      <td>-0.505233</td>\n",
       "      <td>-0.291691</td>\n",
       "      <td>-0.292076</td>\n",
       "      <td>-0.289774</td>\n",
       "      <td>-1.089343</td>\n",
       "      <td>-1.07607</td>\n",
       "      <td>-0.956006</td>\n",
       "      <td>-1.524918</td>\n",
       "      <td>...</td>\n",
       "      <td>-0.58877</td>\n",
       "      <td>-0.495713</td>\n",
       "      <td>0.484871</td>\n",
       "      <td>0.219844</td>\n",
       "      <td>1.553038</td>\n",
       "      <td>0.486149</td>\n",
       "      <td>-0.01718</td>\n",
       "      <td>0.130085</td>\n",
       "      <td>1.430892</td>\n",
       "      <td>0.582388</td>\n",
       "    </tr>\n",
       "    <tr>\n",
       "      <th>202147</th>\n",
       "      <td>1.288939</td>\n",
       "      <td>1.449282</td>\n",
       "      <td>-0.327334</td>\n",
       "      <td>-0.294933</td>\n",
       "      <td>-0.255550</td>\n",
       "      <td>-0.293099</td>\n",
       "      <td>0.010196</td>\n",
       "      <td>-1.07607</td>\n",
       "      <td>-0.956006</td>\n",
       "      <td>-1.524918</td>\n",
       "      <td>...</td>\n",
       "      <td>-0.58877</td>\n",
       "      <td>-0.495713</td>\n",
       "      <td>0.484871</td>\n",
       "      <td>0.219844</td>\n",
       "      <td>1.553038</td>\n",
       "      <td>0.486149</td>\n",
       "      <td>-0.01718</td>\n",
       "      <td>0.130085</td>\n",
       "      <td>1.430892</td>\n",
       "      <td>0.824929</td>\n",
       "    </tr>\n",
       "    <tr>\n",
       "      <th>202148</th>\n",
       "      <td>-1.082329</td>\n",
       "      <td>0.056027</td>\n",
       "      <td>-0.060486</td>\n",
       "      <td>-0.217135</td>\n",
       "      <td>-0.200761</td>\n",
       "      <td>-0.213298</td>\n",
       "      <td>-0.907325</td>\n",
       "      <td>-1.07607</td>\n",
       "      <td>-0.956006</td>\n",
       "      <td>-1.524918</td>\n",
       "      <td>...</td>\n",
       "      <td>-0.58877</td>\n",
       "      <td>-0.495713</td>\n",
       "      <td>0.484871</td>\n",
       "      <td>0.219844</td>\n",
       "      <td>1.553038</td>\n",
       "      <td>0.486149</td>\n",
       "      <td>-0.01718</td>\n",
       "      <td>0.130085</td>\n",
       "      <td>1.430892</td>\n",
       "      <td>0.183929</td>\n",
       "    </tr>\n",
       "  </tbody>\n",
       "</table>\n",
       "<p>5 rows × 34 columns</p>\n",
       "</div>"
      ],
      "text/plain": [
       "             Violencia  violencia de genero     Count  NumMentions  \\\n",
       "Cali 202135   0.154854            -0.779925 -0.594182    -0.311141   \n",
       "     202138   0.721896             0.334678 -0.149435    -0.262517   \n",
       "     202146   0.979643             0.613329 -0.505233    -0.291691   \n",
       "     202147   1.288939             1.449282 -0.327334    -0.294933   \n",
       "     202148  -1.082329             0.056027 -0.060486    -0.217135   \n",
       "\n",
       "             NumSources  NumArticles   AvgTone  Age0-4(%)  Age5-14(%)  \\\n",
       "Cali 202135   -0.310338    -0.309724  0.020257   -1.07607   -0.956006   \n",
       "     202138   -0.219024    -0.259849 -0.164755   -1.07607   -0.956006   \n",
       "     202146   -0.292076    -0.289774 -1.089343   -1.07607   -0.956006   \n",
       "     202147   -0.255550    -0.293099  0.010196   -1.07607   -0.956006   \n",
       "     202148   -0.200761    -0.213298 -0.907325   -1.07607   -0.956006   \n",
       "\n",
       "             Age15-29(%)  ...  Buildingstratification1(%)  \\\n",
       "Cali 202135    -1.524918  ...                    -0.58877   \n",
       "     202138    -1.524918  ...                    -0.58877   \n",
       "     202146    -1.524918  ...                    -0.58877   \n",
       "     202147    -1.524918  ...                    -0.58877   \n",
       "     202148    -1.524918  ...                    -0.58877   \n",
       "\n",
       "             Buildingstratification2(%)  Buildingstratification3(%)  \\\n",
       "Cali 202135                   -0.495713                    0.484871   \n",
       "     202138                   -0.495713                    0.484871   \n",
       "     202146                   -0.495713                    0.484871   \n",
       "     202147                   -0.495713                    0.484871   \n",
       "     202148                   -0.495713                    0.484871   \n",
       "\n",
       "             Buildingstratification4(%)  Buildingstratification5(%)  \\\n",
       "Cali 202135                    0.219844                    1.553038   \n",
       "     202138                    0.219844                    1.553038   \n",
       "     202146                    0.219844                    1.553038   \n",
       "     202147                    0.219844                    1.553038   \n",
       "     202148                    0.219844                    1.553038   \n",
       "\n",
       "             Buildingstratification6(%)  NumberofhospitalsperKm2  \\\n",
       "Cali 202135                    0.486149                 -0.01718   \n",
       "     202138                    0.486149                 -0.01718   \n",
       "     202146                    0.486149                 -0.01718   \n",
       "     202147                    0.486149                 -0.01718   \n",
       "     202148                    0.486149                 -0.01718   \n",
       "\n",
       "             NumberofhousesperKm2  population    Labels  \n",
       "Cali 202135              0.130085    1.430892  0.928875  \n",
       "     202138              0.130085    1.430892  1.396631  \n",
       "     202146              0.130085    1.430892  0.582388  \n",
       "     202147              0.130085    1.430892  0.824929  \n",
       "     202148              0.130085    1.430892  0.183929  \n",
       "\n",
       "[5 rows x 34 columns]"
      ]
     },
     "execution_count": 11,
     "metadata": {},
     "output_type": "execute_result"
    }
   ],
   "source": [
    "# Scale test:\n",
    "test_df = normalize_test_features(test_df, scalers=scalers)\n",
    "test_df = [test_df[test_df.index.get_level_values(0) == municipality] for municipality in Municipalities]\n",
    "\n",
    "test_df[1].head()"
   ]
  },
  {
   "cell_type": "markdown",
   "id": "755ef987",
   "metadata": {},
   "source": [
    "#### Prepare data for time series supervised learning (function to create sliding window)"
   ]
  },
  {
   "cell_type": "code",
   "execution_count": 12,
   "id": "c491c7b7",
   "metadata": {},
   "outputs": [
    {
     "data": {
      "text/plain": [
       "(143, 100)"
      ]
     },
     "execution_count": 12,
     "metadata": {},
     "output_type": "execute_result"
    }
   ],
   "source": [
    "# frame as supervised learning\n",
    "train = [series_to_supervised(df, n_in=T, autoregressive=autoregressive) for df in train_df]\n",
    "test = [series_to_supervised(df, n_in=T, autoregressive=autoregressive) for df in test_df]\n",
    "\n",
    "train[1].shape"
   ]
  },
  {
   "cell_type": "markdown",
   "id": "b18a1969",
   "metadata": {},
   "source": [
    "#### Merge"
   ]
  },
  {
   "cell_type": "code",
   "execution_count": 13,
   "id": "76a63609",
   "metadata": {},
   "outputs": [
    {
     "data": {
      "text/plain": [
       "(1230, 100)"
      ]
     },
     "execution_count": 13,
     "metadata": {},
     "output_type": "execute_result"
    }
   ],
   "source": [
    "# Merge:\n",
    "train = pd.concat(train, keys=Municipalities)\n",
    "test = pd.concat(test, keys=Municipalities)\n",
    "\n",
    "train.shape"
   ]
  },
  {
   "cell_type": "markdown",
   "id": "6a1bdf63",
   "metadata": {},
   "source": [
    "#### Features and Labels Set"
   ]
  },
  {
   "cell_type": "code",
   "execution_count": 14,
   "id": "4b06a7d2",
   "metadata": {},
   "outputs": [
    {
     "name": "stdout",
     "output_type": "stream",
     "text": [
      "Train:\n",
      "The shape of the features is (1230, 99)\n",
      "The shape of the labels is (1230, 1)\n",
      "Test:\n",
      "The shape of the features is (296, 99)\n",
      "The shape of the labels is (296, 1)\n"
     ]
    }
   ],
   "source": [
    "# Train features and labels set\n",
    "print('Train:')\n",
    "train_X, train_y, n_features = features_labels_set(timeseries_data=train, original_df=dengue_df[0], autoregressive=autoregressive)\n",
    "\n",
    "# Test features and labels set\n",
    "print('Test:')\n",
    "test_X, test_y, n_features = features_labels_set(timeseries_data=test, original_df=dengue_df[0], autoregressive=autoregressive)"
   ]
  },
  {
   "cell_type": "code",
   "execution_count": 15,
   "id": "3cf859ca",
   "metadata": {},
   "outputs": [
    {
     "name": "stdout",
     "output_type": "stream",
     "text": [
      "The initial shapes are:\n",
      "The train shape is (1230, 99)\n",
      "The test shape is (296, 99)\n",
      "-----------------------\n",
      "The Final shapes are:\n",
      "The train shape is (1230, 3, 33)\n",
      "The test shape is (296, 3, 33)\n"
     ]
    }
   ],
   "source": [
    "# reshape input to be 3D [samples, timesteps, features]\n",
    "if T != 0:\n",
    "    train_X, test_X = reshape_tensor(train_X, test_X, n_features, T, autoregressive)"
   ]
  },
  {
   "cell_type": "code",
   "execution_count": 16,
   "id": "1cf2fbce",
   "metadata": {},
   "outputs": [
    {
     "data": {
      "image/png": "[encoded data removed]",
      "text/plain": [
       "<Figure size 640x480 with 1 Axes>"
      ]
     },
     "metadata": {},
     "output_type": "display_data"
    },
    {
     "name": "stderr",
     "output_type": "stream",
     "text": [
      "2024-01-16 17:10:04.079083: I metal_plugin/src/device/metal_device.cc:1154] Metal device set to: Apple M1\n",
      "2024-01-16 17:10:04.079158: I metal_plugin/src/device/metal_device.cc:296] systemMemory: 8.00 GB\n",
      "2024-01-16 17:10:04.079170: I metal_plugin/src/device/metal_device.cc:313] maxCacheSize: 2.67 GB\n",
      "2024-01-16 17:10:04.083350: I tensorflow/core/common_runtime/pluggable_device/pluggable_device_factory.cc:303] Could not identify NUMA node of platform GPU ID 0, defaulting to 0. Your kernel may not have been built with NUMA support.\n",
      "2024-01-16 17:10:04.083391: I tensorflow/core/common_runtime/pluggable_device/pluggable_device_factory.cc:269] Created TensorFlow device (/job:localhost/replica:0/task:0/device:GPU:0 with 0 MB memory) -> physical PluggableDevice (device: 0, name: METAL, pci bus id: <undefined>)\n",
      "2024-01-16 17:10:09.435345: I tensorflow/core/grappler/optimizers/custom_graph_optimizer_registry.cc:114] Plugin optimizer for device_type GPU is enabled.\n",
      "2024-01-16 17:10:10.272729: I tensorflow/core/grappler/optimizers/custom_graph_optimizer_registry.cc:114] Plugin optimizer for device_type GPU is enabled.\n",
      "2024-01-16 17:10:10.423909: I tensorflow/core/grappler/optimizers/custom_graph_optimizer_registry.cc:114] Plugin optimizer for device_type GPU is enabled.\n",
      "2024-01-16 17:10:11.017463: I tensorflow/core/grappler/optimizers/custom_graph_optimizer_registry.cc:114] Plugin optimizer for device_type GPU is enabled.\n",
      "2024-01-16 17:10:11.208938: I tensorflow/core/grappler/optimizers/custom_graph_optimizer_registry.cc:114] Plugin optimizer for device_type GPU is enabled.\n",
      "2024-01-16 17:10:16.994156: I tensorflow/core/grappler/optimizers/custom_graph_optimizer_registry.cc:114] Plugin optimizer for device_type GPU is enabled.\n",
      "2024-01-16 17:10:17.128166: I tensorflow/core/grappler/optimizers/custom_graph_optimizer_registry.cc:114] Plugin optimizer for device_type GPU is enabled.\n",
      "2024-01-16 17:10:17.224906: I tensorflow/core/grappler/optimizers/custom_graph_optimizer_registry.cc:114] Plugin optimizer for device_type GPU is enabled.\n"
     ]
    },
    {
     "name": "stdout",
     "output_type": "stream",
     "text": [
      "Restoring model weights from the end of the best epoch: 10.\n",
      "Epoch 18: early stopping\n"
     ]
    },
    {
     "name": "stderr",
     "output_type": "stream",
     "text": [
      "2024-01-16 17:11:27.872451: I tensorflow/core/grappler/optimizers/custom_graph_optimizer_registry.cc:114] Plugin optimizer for device_type GPU is enabled.\n",
      "2024-01-16 17:11:28.179504: I tensorflow/core/grappler/optimizers/custom_graph_optimizer_registry.cc:114] Plugin optimizer for device_type GPU is enabled.\n",
      "2024-01-16 17:11:28.308704: I tensorflow/core/grappler/optimizers/custom_graph_optimizer_registry.cc:114] Plugin optimizer for device_type GPU is enabled.\n"
     ]
    },
    {
     "name": "stdout",
     "output_type": "stream",
     "text": [
      "10/10 [==============================] - 8s 322ms/step\n",
      "Test MAE: 29.344\n",
      "Test RMSE: 38.633\n",
      "Test sMAPE: 47.630\n",
      "Test R Squared: 0.447\n",
      "{'mae': 29.344055207999975, 'rmse': 38.633481274768606, 'smape': 47.630293631535565, 'r2': 0.4469757583626811}\n"
     ]
    },
    {
     "data": {
      "image/png": "[encoded data removed]",
      "text/plain": [
       "<Figure size 640x480 with 1 Axes>"
      ]
     },
     "metadata": {},
     "output_type": "display_data"
    },
    {
     "name": "stderr",
     "output_type": "stream",
     "text": [
      "2024-01-16 17:11:45.371835: I tensorflow/core/grappler/optimizers/custom_graph_optimizer_registry.cc:114] Plugin optimizer for device_type GPU is enabled.\n",
      "2024-01-16 17:11:46.054793: I tensorflow/core/grappler/optimizers/custom_graph_optimizer_registry.cc:114] Plugin optimizer for device_type GPU is enabled.\n",
      "2024-01-16 17:11:46.217425: I tensorflow/core/grappler/optimizers/custom_graph_optimizer_registry.cc:114] Plugin optimizer for device_type GPU is enabled.\n",
      "2024-01-16 17:11:47.036907: I tensorflow/core/grappler/optimizers/custom_graph_optimizer_registry.cc:114] Plugin optimizer for device_type GPU is enabled.\n",
      "2024-01-16 17:11:47.464290: I tensorflow/core/grappler/optimizers/custom_graph_optimizer_registry.cc:114] Plugin optimizer for device_type GPU is enabled.\n",
      "2024-01-16 17:11:58.801055: I tensorflow/core/grappler/optimizers/custom_graph_optimizer_registry.cc:114] Plugin optimizer for device_type GPU is enabled.\n",
      "2024-01-16 17:11:59.046560: I tensorflow/core/grappler/optimizers/custom_graph_optimizer_registry.cc:114] Plugin optimizer for device_type GPU is enabled.\n",
      "2024-01-16 17:11:59.123118: I tensorflow/core/grappler/optimizers/custom_graph_optimizer_registry.cc:114] Plugin optimizer for device_type GPU is enabled.\n"
     ]
    },
    {
     "name": "stdout",
     "output_type": "stream",
     "text": [
      "Restoring model weights from the end of the best epoch: 1.\n",
      "Epoch 9: early stopping\n"
     ]
    },
    {
     "name": "stderr",
     "output_type": "stream",
     "text": [
      "2024-01-16 17:12:35.008977: I tensorflow/core/grappler/optimizers/custom_graph_optimizer_registry.cc:114] Plugin optimizer for device_type GPU is enabled.\n",
      "2024-01-16 17:12:35.376844: I tensorflow/core/grappler/optimizers/custom_graph_optimizer_registry.cc:114] Plugin optimizer for device_type GPU is enabled.\n",
      "2024-01-16 17:12:35.568415: I tensorflow/core/grappler/optimizers/custom_graph_optimizer_registry.cc:114] Plugin optimizer for device_type GPU is enabled.\n"
     ]
    },
    {
     "name": "stdout",
     "output_type": "stream",
     "text": [
      "10/10 [==============================] - 2s 35ms/step\n",
      "Test MAE: 33.679\n",
      "Test RMSE: 45.699\n",
      "Test sMAPE: 49.276\n",
      "Test R Squared: 0.226\n",
      "{'mae': 33.67892323313533, 'rmse': 45.6992669187655, 'smape': 49.27574520986524, 'r2': 0.2261889144480207}\n"
     ]
    },
    {
     "data": {
      "image/png": "[encoded data removed]",
      "text/plain": [
       "<Figure size 640x480 with 1 Axes>"
      ]
     },
     "metadata": {},
     "output_type": "display_data"
    },
    {
     "name": "stderr",
     "output_type": "stream",
     "text": [
      "2024-01-16 17:12:43.157574: I tensorflow/core/grappler/optimizers/custom_graph_optimizer_registry.cc:114] Plugin optimizer for device_type GPU is enabled.\n",
      "2024-01-16 17:12:43.696754: I tensorflow/core/grappler/optimizers/custom_graph_optimizer_registry.cc:114] Plugin optimizer for device_type GPU is enabled.\n",
      "2024-01-16 17:12:43.815705: I tensorflow/core/grappler/optimizers/custom_graph_optimizer_registry.cc:114] Plugin optimizer for device_type GPU is enabled.\n",
      "2024-01-16 17:12:44.646617: I tensorflow/core/grappler/optimizers/custom_graph_optimizer_registry.cc:114] Plugin optimizer for device_type GPU is enabled.\n",
      "2024-01-16 17:12:44.838770: I tensorflow/core/grappler/optimizers/custom_graph_optimizer_registry.cc:114] Plugin optimizer for device_type GPU is enabled.\n",
      "2024-01-16 17:12:57.127179: I tensorflow/core/grappler/optimizers/custom_graph_optimizer_registry.cc:114] Plugin optimizer for device_type GPU is enabled.\n",
      "2024-01-16 17:13:01.405213: I tensorflow/core/grappler/optimizers/custom_graph_optimizer_registry.cc:114] Plugin optimizer for device_type GPU is enabled.\n",
      "2024-01-16 17:13:05.312701: I tensorflow/core/grappler/optimizers/custom_graph_optimizer_registry.cc:114] Plugin optimizer for device_type GPU is enabled.\n"
     ]
    }
   ],
   "source": [
    "# Use the Function:\n",
    "if T != 0: \n",
    "    sequence=train_X.shape[1]\n",
    "    features=train_X.shape[2]\n",
    "else:\n",
    "    sequence=T\n",
    "    features=train_X.shape[1]\n",
    "\n",
    "set_all_seeds(1)\n",
    "calculate_mean_std(lstm_layers, nn_layers, sequence, features, dense_acivation, recurrent_cells, bidirectional, train_X, train_y, test_X, test_y, scalers['scaler_Labels'], monitor=True, plot=None, epochs=50, batch_size=16, n_tests=n_tests, plot_samples=True, Municipality='Global')"
   ]
  },
  {
   "cell_type": "markdown",
   "id": "a6fd9cb1",
   "metadata": {},
   "source": [
    "### Late Fusion Model"
   ]
  },
  {
   "cell_type": "code",
   "execution_count": null,
   "id": "710cad23",
   "metadata": {},
   "outputs": [],
   "source": [
    "set_all_seeds(1)\n",
    "\n",
    "x_ar = train_X[:, :, :7]\n",
    "x_ar_test = test_X[:, :, :10724]\n",
    "train_X = train_X[:, :, 1024:]\n",
    "test_X = test_X[:, :, 1024:]\n",
    "\n",
    "results = calculate_mean_std(lstm_layers, nn_layers, sequence, train_X.shape[2], dense_acivation, recurrent_cells, bidirectional, train_X, train_y, test_X, test_y, scalers_list['scaler_Labels'], monitor=True, plot=None, epochs=50, batch_size=16, n_tests=n_tests, plot_samples=True, Municipality='Global', fusion='late', x_ar=x_ar, x_ar_test=x_ar_test)\n",
    "results_list_late.append(results)"
   ]
  },
  {
   "cell_type": "code",
   "execution_count": null,
   "id": "52f256a0",
   "metadata": {},
   "outputs": [],
   "source": []
  }
 ],
 "metadata": {
  "kernelspec": {
   "display_name": "nlp_violence",
   "language": "python",
   "name": "python3"
  },
  "language_info": {
   "codemirror_mode": {
    "name": "ipython",
    "version": 3
   },
   "file_extension": ".py",
   "mimetype": "text/x-python",
   "name": "python",
   "nbconvert_exporter": "python",
   "pygments_lexer": "ipython3",
   "version": "3.9.18"
  }
 },
 "nbformat": 4,
 "nbformat_minor": 5
}
