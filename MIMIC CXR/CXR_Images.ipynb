{
 "cells": [
  {
   "cell_type": "markdown",
   "id": "0764cfe8",
   "metadata": {},
   "source": [
    "### Setup Environment:"
   ]
  },
  {
   "cell_type": "code",
   "execution_count": 1,
   "id": "def73db9",
   "metadata": {
    "tags": []
   },
   "outputs": [
    {
     "name": "stdout",
     "output_type": "stream",
     "text": [
      "/home/datascience/DF-DM\n"
     ]
    }
   ],
   "source": [
    "# Path to main dir eq: %cd ..\n",
    "%cd ..\n",
    "#%cd /home/datascience/DF-DM/"
   ]
  },
  {
   "cell_type": "code",
   "execution_count": 2,
   "id": "f69668c2",
   "metadata": {
    "tags": []
   },
   "outputs": [
    {
     "name": "stderr",
     "output_type": "stream",
     "text": [
      "/home/datascience/conda/data_fusion_v0_0_1/lib/python3.8/site-packages/huggingface_hub/utils/_runtime.py:184: UserWarning: Pydantic is installed but cannot be imported. Please check your installation. `huggingface_hub` will default to not using Pydantic. Error message: '{e}'\n",
      "  warnings.warn(\n",
      "2024-02-29 19:47:43.828445: I tensorflow/tsl/cuda/cudart_stub.cc:28] Could not find cuda drivers on your machine, GPU will not be used.\n",
      "2024-02-29 19:47:43.872284: I tensorflow/core/platform/cpu_feature_guard.cc:182] This TensorFlow binary is optimized to use available CPU instructions in performance-critical operations.\n",
      "To enable the following instructions: AVX2 FMA, in other operations, rebuild TensorFlow with the appropriate compiler flags.\n",
      "2024-02-29 19:47:44.755490: W tensorflow/compiler/tf2tensorrt/utils/py_utils.cc:38] TF-TRT Warning: Could not find TensorRT\n"
     ]
    }
   ],
   "source": [
    "from src.embeddings import load_image_text_embeddings, train_and_evaluate_model\n",
    "\n",
    "# Class weights\n",
    "from sklearn.utils.class_weight import compute_class_weight\n",
    "import numpy as np\n",
    "\n",
    "# Models\n",
    "# Random forest\n",
    "from sklearn.ensemble import RandomForestClassifier\n",
    "# Logistic regression\n",
    "from sklearn.linear_model import LogisticRegression\n",
    "# Support vector machine\n",
    "from sklearn.svm import SVC\n",
    "# Decision tree\n",
    "from sklearn.tree import DecisionTreeClassifier"
   ]
  },
  {
   "cell_type": "markdown",
   "id": "49adf214",
   "metadata": {},
   "source": [
    "## Evaluate the Embeddings"
   ]
  },
  {
   "cell_type": "code",
   "execution_count": 6,
   "id": "36063bcc",
   "metadata": {
    "tags": []
   },
   "outputs": [],
   "source": [
    "def run_experiments(PATH, LABEL, CLASS_WEIGTHS, MODALITY=None):\n",
    "    \n",
    "    # Get the dataset\n",
    "    X_train, y_train, X_test, y_test = load_image_text_embeddings(path=PATH, label=LABEL, modality=MODALITY)\n",
    "\n",
    "    # Define a list of models to test\n",
    "    if CLASS_WEIGTHS:\n",
    "        class_weights = compute_class_weight(\"balanced\", classes=np.unique(y_train), y=y_train)\n",
    "        # Create a dictionary from class labels and weights\n",
    "        class_weights = {class_label: weight for class_label, weight in zip(np.unique(y_train), class_weights)}\n",
    "        print(f'Setting class weigths to: {class_weights}')\n",
    "\n",
    "        models = [\n",
    "            #(\"SVM\", SVC(class_weight=class_weights, probability=True)),\n",
    "            (\"Logistic Regression\", LogisticRegression(class_weight=class_weights)),\n",
    "            ('Decision Tree', DecisionTreeClassifier(class_weight=class_weights)),\n",
    "        ]\n",
    "    else:\n",
    "        models = [\n",
    "            #(\"SVM\", SVC(probability=True)),\n",
    "            (\"Logistic Regression\", LogisticRegression())\n",
    "            ('Decision Tree', DecisionTreeClassifier()),\n",
    "        ]\n",
    "\n",
    "    # Run the experiments\n",
    "    train_and_evaluate_model(X_train, X_test, y_train, y_test, models=models)"
   ]
  },
  {
   "cell_type": "markdown",
   "id": "4ae7eb4c",
   "metadata": {},
   "source": [
    "#### Constants"
   ]
  },
  {
   "cell_type": "code",
   "execution_count": 7,
   "id": "934c8cb7",
   "metadata": {
    "tags": []
   },
   "outputs": [],
   "source": [
    "# Constants:\n",
    "PATH = '/home/datascience/DF-DM/Embeddings/mimic/embeddings.csv'\n",
    "CLASS_WEIGTHS = True\n",
    "MODALITY='image'"
   ]
  },
  {
   "cell_type": "markdown",
   "id": "59209b2f",
   "metadata": {},
   "source": [
    "### Race"
   ]
  },
  {
   "cell_type": "code",
   "execution_count": null,
   "id": "fe11a98b",
   "metadata": {
    "tags": []
   },
   "outputs": [],
   "source": [
    "LABEL = 'race_label'\n",
    "\n",
    "run_experiments(PATH, LABEL, CLASS_WEIGTHS, MODALITY)"
   ]
  },
  {
   "cell_type": "markdown",
   "id": "a56b18ce",
   "metadata": {},
   "source": [
    "### Disease"
   ]
  },
  {
   "cell_type": "code",
   "execution_count": null,
   "id": "4fbc9937",
   "metadata": {
    "tags": []
   },
   "outputs": [],
   "source": [
    "LABEL = 'disease_label'\n",
    "\n",
    "run_experiments(PATH, LABEL, CLASS_WEIGTHS, MODALITY)"
   ]
  },
  {
   "cell_type": "markdown",
   "id": "aa6b7a67-912c-4d0f-8f5d-fe808dae3b3d",
   "metadata": {},
   "source": [
    "### Sex"
   ]
  },
  {
   "cell_type": "code",
   "execution_count": null,
   "id": "c3486c9d",
   "metadata": {
    "tags": []
   },
   "outputs": [],
   "source": [
    "LABEL = 'sex_label'\n",
    "\n",
    "run_experiments(PATH, LABEL, CLASS_WEIGTHS, MODALITY)"
   ]
  },
  {
   "cell_type": "code",
   "execution_count": null,
   "id": "a6e00ce9-4aee-419e-9396-e621ed12de67",
   "metadata": {},
   "outputs": [],
   "source": []
  }
 ],
 "metadata": {
  "kernelspec": {
   "display_name": "Python [conda env:data_fusion_v0_0_1]",
   "language": "python",
   "name": "conda-env-data_fusion_v0_0_1-py"
  },
  "language_info": {
   "codemirror_mode": {
    "name": "ipython",
    "version": 3
   },
   "file_extension": ".py",
   "mimetype": "text/x-python",
   "name": "python",
   "nbconvert_exporter": "python",
   "pygments_lexer": "ipython3",
   "version": "3.8.17"
  }
 },
 "nbformat": 4,
 "nbformat_minor": 5
}
