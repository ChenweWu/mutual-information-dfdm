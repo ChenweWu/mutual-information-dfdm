{
 "cells": [
  {
   "cell_type": "markdown",
   "id": "dc7343ef",
   "metadata": {},
   "source": [
    "### Get titles from URLS"
   ]
  },
  {
   "cell_type": "code",
   "execution_count": 1,
   "id": "4da2b4bb",
   "metadata": {},
   "outputs": [],
   "source": [
    "import pandas as pd\n",
    "import requests\n",
    "from bs4 import BeautifulSoup\n"
   ]
  },
  {
   "cell_type": "code",
   "execution_count": 4,
   "id": "ab4a8d7a",
   "metadata": {},
   "outputs": [],
   "source": [
    "# Load your CSV file into the DataFrame\n",
    "df = pd.read_csv('labels.csv')\n"
   ]
  },
  {
   "cell_type": "code",
   "execution_count": null,
   "id": "d36a0dab",
   "metadata": {},
   "outputs": [],
   "source": [
    "# Function to get the title of a webpage\n",
    "def get_title(url):\n",
    "    try:\n",
    "        page = requests.get(url)\n",
    "        soup = BeautifulSoup(page.content, 'html.parser')\n",
    "        return soup.title.string.strip() if soup.title else 'No Title Found'\n",
    "    except Exception as e:\n",
    "        return f\"Error: {e}\"\n",
    "\n",
    "# Applying the function to each URL in the DataFrame\n",
    "df['Title'] = df['SOURCEURL'].apply(get_title)"
   ]
  }
 ],
 "metadata": {
  "kernelspec": {
   "display_name": "Python [conda env:data_fusion_v0_0_1]",
   "language": "python",
   "name": "conda-env-data_fusion_v0_0_1-py"
  },
  "language_info": {
   "codemirror_mode": {
    "name": "ipython",
    "version": 3
   },
   "file_extension": ".py",
   "mimetype": "text/x-python",
   "name": "python",
   "nbconvert_exporter": "python",
   "pygments_lexer": "ipython3",
   "version": "3.8.17"
  }
 },
 "nbformat": 4,
 "nbformat_minor": 5
}
