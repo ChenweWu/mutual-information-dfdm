{
 "cells": [
  {
   "cell_type": "markdown",
   "id": "7003b3ca",
   "metadata": {},
   "source": [
    "### Setup Environment"
   ]
  },
  {
   "cell_type": "code",
   "execution_count": 7,
   "id": "cdd32720",
   "metadata": {},
   "outputs": [],
   "source": [
    "from dotenv import load_dotenv\n",
    "import mediacloud.api\n",
    "import os\n",
    "import pandas as pd\n",
    "from datetime import date"
   ]
  },
  {
   "cell_type": "code",
   "execution_count": 8,
   "id": "6c228aa5",
   "metadata": {},
   "outputs": [],
   "source": [
    "load_dotenv()\n",
    "\n",
    "# Read your personal API key from that .env\n",
    "MY_KEY = os.getenv('MEDIA_CLOUD')\n",
    "rows = 100\n",
    "start = 0\n",
    "start_date = '2023-07-01'\n",
    "end_date = '2023-09-01'\n",
    "\n",
    "keywords = ['violencia']\n",
    "\n",
    "# TO COMPLETE\n",
    "login_info = {\"mc_remember_token\": MY_KEY}\n",
    "\n",
    "# Only latam\n",
    "df_tags_country_latam = pd.read_csv(\"collections.csv\")\n",
    "df_tags_country_latam.index = df_tags_country_latam[\"Municipality code\"]\n",
    "collections_dic = df_tags_country_latam.to_dict()[\"tags_id\"]\n",
    "collections = list(collections_dic.keys())\n",
    "\n",
    "\n",
    "start_date = date.fromisoformat(start_date)\n",
    "end_date = date.fromisoformat(end_date)\n"
   ]
  },
  {
   "cell_type": "code",
   "execution_count": 34,
   "id": "9303095d",
   "metadata": {},
   "outputs": [
    {
     "name": "stdout",
     "output_type": "stream",
     "text": [
      "Retrived 1 matching stories\n"
     ]
    }
   ],
   "source": [
    "COLLECTION = collections_dic[collections[0]]\n",
    "mc_search = mediacloud.api.SearchApi(login_info[\"mc_remember_token\"])\n",
    "\n",
    "all_stories = []\n",
    "pagination_token = None\n",
    "more_stories = True\n",
    "while more_stories:\n",
    "    page, pagination_token = mc_search.story_list(keywords[0], start_date=start_date, end_date=end_date, collection_ids=[COLLECTION],\n",
    "                                                  pagination_token=pagination_token)\n",
    "    all_stories += page\n",
    "    more_stories = pagination_token is not None\n",
    "print(f\"Retrived {len(all_stories)} matching stories\")"
   ]
  },
  {
   "cell_type": "code",
   "execution_count": null,
   "id": "b5b73f11",
   "metadata": {},
   "outputs": [],
   "source": []
  }
 ],
 "metadata": {
  "kernelspec": {
   "display_name": "nlp_violence",
   "language": "python",
   "name": "python3"
  },
  "language_info": {
   "codemirror_mode": {
    "name": "ipython",
    "version": 3
   },
   "file_extension": ".py",
   "mimetype": "text/x-python",
   "name": "python",
   "nbconvert_exporter": "python",
   "pygments_lexer": "ipython3",
   "version": "3.10.13"
  }
 },
 "nbformat": 4,
 "nbformat_minor": 5
}
