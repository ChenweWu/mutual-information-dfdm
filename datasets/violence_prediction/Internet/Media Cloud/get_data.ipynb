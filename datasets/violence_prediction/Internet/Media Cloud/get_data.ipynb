{
 "cells": [
  {
   "cell_type": "markdown",
   "id": "7003b3ca",
   "metadata": {},
   "source": [
    "### Setup Environment"
   ]
  },
  {
   "cell_type": "code",
   "execution_count": 7,
   "id": "cdd32720",
   "metadata": {},
   "outputs": [],
   "source": [
    "from dotenv import load_dotenv\n",
    "import os"
   ]
  },
  {
   "cell_type": "code",
   "execution_count": 8,
   "id": "6c228aa5",
   "metadata": {},
   "outputs": [],
   "source": [
    "load_dotenv()\n",
    "\n",
    "# Read your personal API key from that .env\n",
    "MY_KEY = os.getenv('MEDIA_CLOUD')\n",
    "rows = 100\n",
    "start = 0\n",
    "collection = 38379540\n",
    "start_date = '2023-07-01'\n",
    "end_date = '2023-09-01'"
   ]
  },
  {
   "cell_type": "code",
   "execution_count": 3,
   "id": "2b3926e2",
   "metadata": {},
   "outputs": [
    {
     "name": "stdout",
     "output_type": "stream",
     "text": [
      "Fetching 100 stories starting from 0\n"
     ]
    }
   ],
   "source": [
    "import requests\n",
    "\n",
    "while True:\n",
    "    params = {\n",
    "        'last_processed_stories_id': start,\n",
    "        'rows': rows,\n",
    "        'q': f'violencia AND \"violencia de genero\" AND tags_id_media:{collection}',\n",
    "        'fq': f'publish_date:[{start_date}T00:00:00Z TO {end_date}T00:00:00Z]',\n",
    "        'key': MY_KEY\n",
    "    }\n",
    "\n",
    "    print(f\"Fetching {rows} stories starting from {start}\")\n",
    "    r = requests.get('https://api.mediacloud.org/api/v2/stories_public/list/', params = params, headers = { 'Accept': 'application/json'})\n",
    "    \n",
    "    stories = r.json()\n",
    "    if len(stories) == 0:\n",
    "        break\n",
    "    \n",
    "    start = stories[-1]['processed_stories_id']\n",
    "\n",
    "    process_stories( stories )"
   ]
  },
  {
   "cell_type": "code",
   "execution_count": null,
   "id": "d9b99ce7",
   "metadata": {},
   "outputs": [],
   "source": []
  },
  {
   "cell_type": "code",
   "execution_count": null,
   "id": "bc0e7968",
   "metadata": {},
   "outputs": [],
   "source": []
  }
 ],
 "metadata": {
  "kernelspec": {
   "display_name": "Python [conda env:data_fusion_v0_0_1]",
   "language": "python",
   "name": "conda-env-data_fusion_v0_0_1-py"
  },
  "language_info": {
   "codemirror_mode": {
    "name": "ipython",
    "version": 3
   },
   "file_extension": ".py",
   "mimetype": "text/x-python",
   "name": "python",
   "nbconvert_exporter": "python",
   "pygments_lexer": "ipython3",
   "version": "3.8.17"
  }
 },
 "nbformat": 4,
 "nbformat_minor": 5
}
